{
 "cells": [
  {
   "cell_type": "code",
   "execution_count": 1,
   "id": "31180bdf",
   "metadata": {},
   "outputs": [
    {
     "name": "stdout",
     "output_type": "stream",
     "text": [
      "When N: 5, P: 0.001.\n",
      "P(X = 0) = 0.995009990004999\n",
      "P(X = 1) = 0.004980029980005\n",
      "P(X = 2) = 9.970029989999998e-06\n",
      "P(X = 3) = 9.98001e-09\n",
      "P(X = 4) = 4.9950000000000004e-12\n",
      "P(X = 5) = 1e-15\n",
      "When N: 5, P: 0.1.\n",
      "P(X = 0) = 0.5904900000000001\n",
      "P(X = 1) = 0.32805\n",
      "P(X = 2) = 0.07290000000000002\n",
      "P(X = 3) = 0.008100000000000001\n",
      "P(X = 4) = 0.0004500000000000001\n",
      "P(X = 5) = 1.0000000000000003e-05\n",
      "When N: 5, P: 0.5.\n",
      "P(X = 0) = 0.03125\n",
      "P(X = 1) = 0.15625\n",
      "P(X = 2) = 0.3125\n",
      "P(X = 3) = 0.3125\n",
      "P(X = 4) = 0.15625\n",
      "P(X = 5) = 0.03125\n",
      "When N: 5, P: 0.7.\n",
      "P(X = 0) = 0.0024300000000000016\n",
      "P(X = 1) = 0.028350000000000018\n",
      "P(X = 2) = 0.13230000000000006\n",
      "P(X = 3) = 0.30870000000000003\n",
      "P(X = 4) = 0.36014999999999997\n",
      "P(X = 5) = 0.16806999999999994\n",
      "When N: 5, P: 0.9.\n",
      "P(X = 0) = 9.999999999999989e-06\n",
      "P(X = 1) = 0.0004499999999999996\n",
      "P(X = 2) = 0.008099999999999996\n",
      "P(X = 3) = 0.07289999999999998\n",
      "P(X = 4) = 0.3280499999999999\n",
      "P(X = 5) = 0.5904900000000001\n"
     ]
    }
   ],
   "source": [
    "import math\n",
    "N = 5\n",
    "plist = [0.001, 0.1, 0.5, 0.7, 0.9]\n",
    "for p in plist:\n",
    "    print(\"When N: \" + str(N) + \", P: \" + str(p) + \".\")\n",
    "    for k in range(0, N + 1):\n",
    "        mass = math.comb(N, k) * (p ** k) * ((1 - p) ** (N - k))\n",
    "        print(\"P(X = \" + str(k) + \") = \" + str(mass))"
   ]
  },
  {
   "cell_type": "code",
   "execution_count": null,
   "id": "c2789492",
   "metadata": {},
   "outputs": [],
   "source": []
  }
 ],
 "metadata": {
  "kernelspec": {
   "display_name": "Python 3 (ipykernel)",
   "language": "python",
   "name": "python3"
  },
  "language_info": {
   "codemirror_mode": {
    "name": "ipython",
    "version": 3
   },
   "file_extension": ".py",
   "mimetype": "text/x-python",
   "name": "python",
   "nbconvert_exporter": "python",
   "pygments_lexer": "ipython3",
   "version": "3.10.9"
  }
 },
 "nbformat": 4,
 "nbformat_minor": 5
}
